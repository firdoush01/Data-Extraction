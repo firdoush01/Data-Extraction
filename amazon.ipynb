{
 "cells": [
  {
   "cell_type": "code",
   "execution_count": 14,
   "metadata": {},
   "outputs": [],
   "source": [
    "\n",
    "import pandas as pd \n",
    "import requests\n",
    "from bs4  import BeautifulSoup"
   ]
  },
  {
   "cell_type": "code",
   "execution_count": 15,
   "metadata": {},
   "outputs": [],
   "source": [
    "product_name = []\n",
    "product_price = []\n",
    "description = []\n",
    "product_reviews = []\n",
    "product_reviews = []"
   ]
  },
  {
   "cell_type": "code",
   "execution_count": 16,
   "metadata": {},
   "outputs": [],
   "source": [
    "\n",
    "def get_name(box):\n",
    "    names = box.find_all('span', class_='a-size-medium a-color-base a-text-normal')\n",
    "    # print(names)\n",
    "    for i in names:\n",
    "        product_name.append(i.text)"
   ]
  },
  {
   "cell_type": "code",
   "execution_count": 17,
   "metadata": {},
   "outputs": [],
   "source": [
    "def get_price(box):\n",
    "    price = box.find_all('span', class_='a-offscreen')\n",
    "    # print(price)\n",
    "    for i in price:\n",
    "        product_price.append(i.text)"
   ]
  },
  {
   "cell_type": "code",
   "execution_count": 18,
   "metadata": {},
   "outputs": [],
   "source": [
    "\n",
    "def get_des(box):\n",
    "    desc = box.find_all('span', class_='a-size-medium a-color-base a-text-normal')\n",
    "    # print(desc)\n",
    "    for i in desc:\n",
    "        description.append(i.text)"
   ]
  },
  {
   "cell_type": "code",
   "execution_count": 19,
   "metadata": {},
   "outputs": [],
   "source": [
    "def get_review(box):\n",
    "    reviews = box.find_all('span', class_='a-icon-alt')\n",
    "    # print(reviews)\n",
    "    for i in reviews:\n",
    "        product_reviews.append(i.text)"
   ]
  },
  {
   "cell_type": "code",
   "execution_count": 20,
   "metadata": {},
   "outputs": [
    {
     "name": "stdout",
     "output_type": "stream",
     "text": [
      "0\n",
      "0\n",
      "0\n",
      "0\n"
     ]
    }
   ],
   "source": [
    "print(len(product_name))\n",
    "print(len(product_price))\n",
    "print(len(description))\n",
    "print(len(product_reviews))\n"
   ]
  },
  {
   "cell_type": "code",
   "execution_count": 21,
   "metadata": {},
   "outputs": [
    {
     "name": "stdout",
     "output_type": "stream",
     "text": [
      "Page 1 Scrapped\n",
      "Page 2 Scrapped\n",
      "Page 3 Scrapped\n",
      "Page 4 Scrapped\n",
      "Page 5 Scrapped\n",
      "Page 6 Scrapped\n",
      "Page 7 Scrapped\n",
      "Page 8 Scrapped\n",
      "Page 9 Scrapped\n",
      "Page 10 Scrapped\n",
      "Page 11 Scrapped\n",
      "Page 12 Scrapped\n",
      "Page 13 Scrapped\n",
      "Page 14 Scrapped\n",
      "Page 15 Scrapped\n",
      "Page 16 Scrapped\n",
      "Page 17 Scrapped\n",
      "Page 18 Scrapped\n",
      "Page 19 Scrapped\n",
      "Page 20 Scrapped\n",
      "Page 21 Scrapped\n",
      "Page 22 Scrapped\n",
      "Page 23 Scrapped\n"
     ]
    }
   ],
   "source": [
    "\n",
    "# for i in range(2, 10):\n",
    "if __name__ == '__main__':\n",
    "\n",
    "    for i in range(1,24):\n",
    "    \n",
    "        url = \"https://www.amazon.com/s?k=smartphones&crid=1KA9BISNVKDRO&sprefix=smartphones%2Caps%2C574&ref=nb_sb_ss_ts-doa-p_1_11=\"+str(i)\n",
    "\n",
    "        HEADERS = ({'User-Agent':'Mozilla/5.0 (Windows NT 10.0; Win64; x64) AppleWebKit/537.36 (KHTML, like Gecko) Chrome/129.0.0.0 Safari/537.36', 'Accept-Language': 'en-IN, en;q=0.5'}) #add your user agent                                         \n",
    "        r= requests.get(url,  headers=HEADERS)\n",
    "        soup = BeautifulSoup(r.content, 'lxml')\n",
    "\n",
    "        # to find particular section of data \n",
    "        box = soup.find('div', class_=\"s-main-slot s-result-list s-search-results sg-row\")\n",
    "        get_name(box)\n",
    "        get_price(box)\n",
    "        get_des(box)\n",
    "        get_review(box)\n",
    "        print(\"Page\", i, \"Scrapped\")"
   ]
  },
  {
   "cell_type": "code",
   "execution_count": 22,
   "metadata": {},
   "outputs": [
    {
     "name": "stdout",
     "output_type": "stream",
     "text": [
      "368\n",
      "614\n",
      "368\n",
      "368\n"
     ]
    }
   ],
   "source": [
    "print(len(product_name))\n",
    "print(len(product_price))\n",
    "print(len(description))\n",
    "print(len(product_reviews))"
   ]
  },
  {
   "cell_type": "code",
   "execution_count": 23,
   "metadata": {},
   "outputs": [],
   "source": [
    "# Find the maximum length among the lists\n",
    "max_length = max(len(product_name), len(product_price), len(description), len(product_reviews))\n",
    "\n",
    "# Pad the lists to make them equal in length\n",
    "product_name.extend([None] * (max_length - len(product_name)))\n",
    "product_price.extend([None] * (max_length - len(product_price)))\n",
    "description.extend([None] * (max_length - len(description)))\n",
    "product_reviews.extend([None] * (max_length - len(product_reviews)))"
   ]
  },
  {
   "cell_type": "code",
   "execution_count": 24,
   "metadata": {},
   "outputs": [],
   "source": [
    "df = pd.DataFrame({'Product Name': product_name, 'Product Price': product_price, 'Description': description, 'Product Reviews': product_reviews})\n"
   ]
  },
  {
   "cell_type": "code",
   "execution_count": 25,
   "metadata": {},
   "outputs": [
    {
     "data": {
      "text/html": [
       "<div>\n",
       "<style scoped>\n",
       "    .dataframe tbody tr th:only-of-type {\n",
       "        vertical-align: middle;\n",
       "    }\n",
       "\n",
       "    .dataframe tbody tr th {\n",
       "        vertical-align: top;\n",
       "    }\n",
       "\n",
       "    .dataframe thead th {\n",
       "        text-align: right;\n",
       "    }\n",
       "</style>\n",
       "<table border=\"1\" class=\"dataframe\">\n",
       "  <thead>\n",
       "    <tr style=\"text-align: right;\">\n",
       "      <th></th>\n",
       "      <th>Product Name</th>\n",
       "      <th>Product Price</th>\n",
       "      <th>Description</th>\n",
       "      <th>Product Reviews</th>\n",
       "    </tr>\n",
       "  </thead>\n",
       "  <tbody>\n",
       "    <tr>\n",
       "      <th>0</th>\n",
       "      <td>SAMSUNG Galaxy S24 Ultra Cell Phone, 256GB AI ...</td>\n",
       "      <td>$1,043.45</td>\n",
       "      <td>SAMSUNG Galaxy S24 Ultra Cell Phone, 256GB AI ...</td>\n",
       "      <td>4.5 out of 5 stars</td>\n",
       "    </tr>\n",
       "    <tr>\n",
       "      <th>1</th>\n",
       "      <td>SAMSUNG Galaxy A15 5G A Series Cell Phone, 128...</td>\n",
       "      <td>$1,299.99</td>\n",
       "      <td>SAMSUNG Galaxy A15 5G A Series Cell Phone, 128...</td>\n",
       "      <td>4.1 out of 5 stars</td>\n",
       "    </tr>\n",
       "    <tr>\n",
       "      <th>2</th>\n",
       "      <td>Google Pixel 8 - Unlocked Android Smartphone w...</td>\n",
       "      <td>$179.99</td>\n",
       "      <td>Google Pixel 8 - Unlocked Android Smartphone w...</td>\n",
       "      <td>4.3 out of 5 stars</td>\n",
       "    </tr>\n",
       "    <tr>\n",
       "      <th>3</th>\n",
       "      <td>SAMSUNG Galaxy A35 5G A Series Cell Phone, 128...</td>\n",
       "      <td>$199.99</td>\n",
       "      <td>SAMSUNG Galaxy A35 5G A Series Cell Phone, 128...</td>\n",
       "      <td>4.4 out of 5 stars</td>\n",
       "    </tr>\n",
       "    <tr>\n",
       "      <th>4</th>\n",
       "      <td>Motorola Moto G 5G | 2023 | Unlocked | Made fo...</td>\n",
       "      <td>$499.00</td>\n",
       "      <td>Motorola Moto G 5G | 2023 | Unlocked | Made fo...</td>\n",
       "      <td>4.2 out of 5 stars</td>\n",
       "    </tr>\n",
       "    <tr>\n",
       "      <th>...</th>\n",
       "      <td>...</td>\n",
       "      <td>...</td>\n",
       "      <td>...</td>\n",
       "      <td>...</td>\n",
       "    </tr>\n",
       "    <tr>\n",
       "      <th>609</th>\n",
       "      <td>None</td>\n",
       "      <td>$899.99</td>\n",
       "      <td>None</td>\n",
       "      <td>None</td>\n",
       "    </tr>\n",
       "    <tr>\n",
       "      <th>610</th>\n",
       "      <td>None</td>\n",
       "      <td>$399.99</td>\n",
       "      <td>None</td>\n",
       "      <td>None</td>\n",
       "    </tr>\n",
       "    <tr>\n",
       "      <th>611</th>\n",
       "      <td>None</td>\n",
       "      <td>$699.99</td>\n",
       "      <td>None</td>\n",
       "      <td>None</td>\n",
       "    </tr>\n",
       "    <tr>\n",
       "      <th>612</th>\n",
       "      <td>None</td>\n",
       "      <td>$94.00</td>\n",
       "      <td>None</td>\n",
       "      <td>None</td>\n",
       "    </tr>\n",
       "    <tr>\n",
       "      <th>613</th>\n",
       "      <td>None</td>\n",
       "      <td>$179.99</td>\n",
       "      <td>None</td>\n",
       "      <td>None</td>\n",
       "    </tr>\n",
       "  </tbody>\n",
       "</table>\n",
       "<p>614 rows × 4 columns</p>\n",
       "</div>"
      ],
      "text/plain": [
       "                                          Product Name Product Price  \\\n",
       "0    SAMSUNG Galaxy S24 Ultra Cell Phone, 256GB AI ...     $1,043.45   \n",
       "1    SAMSUNG Galaxy A15 5G A Series Cell Phone, 128...     $1,299.99   \n",
       "2    Google Pixel 8 - Unlocked Android Smartphone w...       $179.99   \n",
       "3    SAMSUNG Galaxy A35 5G A Series Cell Phone, 128...       $199.99   \n",
       "4    Motorola Moto G 5G | 2023 | Unlocked | Made fo...       $499.00   \n",
       "..                                                 ...           ...   \n",
       "609                                               None       $899.99   \n",
       "610                                               None       $399.99   \n",
       "611                                               None       $699.99   \n",
       "612                                               None        $94.00   \n",
       "613                                               None       $179.99   \n",
       "\n",
       "                                           Description     Product Reviews  \n",
       "0    SAMSUNG Galaxy S24 Ultra Cell Phone, 256GB AI ...  4.5 out of 5 stars  \n",
       "1    SAMSUNG Galaxy A15 5G A Series Cell Phone, 128...  4.1 out of 5 stars  \n",
       "2    Google Pixel 8 - Unlocked Android Smartphone w...  4.3 out of 5 stars  \n",
       "3    SAMSUNG Galaxy A35 5G A Series Cell Phone, 128...  4.4 out of 5 stars  \n",
       "4    Motorola Moto G 5G | 2023 | Unlocked | Made fo...  4.2 out of 5 stars  \n",
       "..                                                 ...                 ...  \n",
       "609                                               None                None  \n",
       "610                                               None                None  \n",
       "611                                               None                None  \n",
       "612                                               None                None  \n",
       "613                                               None                None  \n",
       "\n",
       "[614 rows x 4 columns]"
      ]
     },
     "execution_count": 25,
     "metadata": {},
     "output_type": "execute_result"
    }
   ],
   "source": [
    "df"
   ]
  },
  {
   "cell_type": "code",
   "execution_count": 26,
   "metadata": {},
   "outputs": [],
   "source": [
    "df.to_csv('amazon.csv', index=False, encoding='utf-8')\n"
   ]
  }
 ],
 "metadata": {
  "kernelspec": {
   "display_name": "Python 3",
   "language": "python",
   "name": "python3"
  },
  "language_info": {
   "codemirror_mode": {
    "name": "ipython",
    "version": 3
   },
   "file_extension": ".py",
   "mimetype": "text/x-python",
   "name": "python",
   "nbconvert_exporter": "python",
   "pygments_lexer": "ipython3",
   "version": "3.12.5"
  }
 },
 "nbformat": 4,
 "nbformat_minor": 2
}
